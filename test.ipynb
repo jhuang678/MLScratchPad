{
 "cells": [
  {
   "cell_type": "markdown",
   "source": [
    "# Test File for MLScratchPad"
   ],
   "metadata": {
    "collapsed": false,
    "pycharm": {
     "name": "#%% md\n"
    }
   }
  },
  {
   "cell_type": "markdown",
   "source": [
    "## Content\n",
    "* Introduction and Notification\n",
    "* Regression Model\n",
    "    * Linear Regression\n",
    "    * Ridge Regression\n",
    "* Tree-based Model\n",
    "    * Decision Tree\n",
    "    * Random Tree\n",
    "* Ensemble Model\n",
    "    * Bagging\n",
    "    * InsaneLearner\n",
    "    * Random Forest\n",
    "* Dimension Reduction\n",
    "    * PCA\n",
    "* Clustering Model\n",
    "    * K-means\n",
    "    * Spectral\n",
    "    * ISOMAP\n",
    "* Reference\n"
   ],
   "metadata": {
    "collapsed": false,
    "pycharm": {
     "name": "#%% md\n"
    }
   }
  },
  {
   "cell_type": "markdown",
   "source": [
    "## Introduction and Notification\n",
    "This is a testing file for testing all the models.\n",
    "\n",
    "* Please make sure you have installed Python3.\n",
    "* Please make sure you have installed library NumPy, Pandas, and matplotlib for this test file.\n",
    "* Please make sure you have downloaded the data folder and all the Python files for testing."
   ],
   "metadata": {
    "collapsed": false,
    "pycharm": {
     "name": "#%% md\n"
    }
   }
  },
  {
   "cell_type": "markdown",
   "source": [
    "## DTLearner"
   ],
   "metadata": {
    "collapsed": false,
    "pycharm": {
     "name": "#%% md\n"
    }
   }
  },
  {
   "cell_type": "code",
   "execution_count": 24,
   "outputs": [
    {
     "ename": "AttributeError",
     "evalue": "'DTLearner' object has no attribute 'fit'",
     "output_type": "error",
     "traceback": [
      "\u001B[0;31m---------------------------------------------------------------------------\u001B[0m",
      "\u001B[0;31mAttributeError\u001B[0m                            Traceback (most recent call last)",
      "Cell \u001B[0;32mIn[24], line 21\u001B[0m\n\u001B[1;32m     18\u001B[0m learner \u001B[38;5;241m=\u001B[39m DTLearner()\n\u001B[1;32m     20\u001B[0m \u001B[38;5;66;03m# Train the learner\u001B[39;00m\n\u001B[0;32m---> 21\u001B[0m \u001B[43mlearner\u001B[49m\u001B[38;5;241;43m.\u001B[39;49m\u001B[43mfit\u001B[49m(trainX, trainY)\n\u001B[1;32m     23\u001B[0m \u001B[38;5;66;03m# Make predictions\u001B[39;00m\n\u001B[1;32m     24\u001B[0m predictions \u001B[38;5;241m=\u001B[39m learner\u001B[38;5;241m.\u001B[39mquery(testX)\n",
      "\u001B[0;31mAttributeError\u001B[0m: 'DTLearner' object has no attribute 'fit'"
     ]
    }
   ],
   "source": [
    "# Example with Decision Tree Learner\n",
    "from DTLearner import DTLearner\n",
    "import numpy as np\n",
    "import pandas as pd\n",
    "from sklearn.metrics import mean_squared_error, r2_score\n",
    "\n",
    "# Read sample data from a CSV file\n",
    "df = pd.read_csv('sample_data.csv')\n",
    "y = df['y'].values  # 'y' is the target column\n",
    "X = df.drop('y', axis=1).values\n",
    "\n",
    "# Manually split the data into training and testing sets\n",
    "split_index = int(len(X) * 0.8)  # 80% for training, 20% for testing\n",
    "trainX, testX = X[:split_index], X[split_index:]\n",
    "trainY, testY = y[:split_index], y[split_index:]\n",
    "\n",
    "# Create a learner instance\n",
    "learner = DTLearner()\n",
    "\n",
    "# Train the learner\n",
    "learner.fit(trainX, trainY)\n",
    "\n",
    "# Make predictions\n",
    "predictions = learner.query(testX)\n",
    "\n",
    "# Calculate and print the RMSE and R²\n",
    "rmse = np.sqrt(mean_squared_error(testY, predictions))\n",
    "r2 = r2_score(testY, predictions)\n",
    "print(\"RMSE:\", rmse)\n",
    "print(\"R²:\", r2)"
   ],
   "metadata": {
    "collapsed": false,
    "pycharm": {
     "name": "#%%\n"
    }
   }
  },
  {
   "cell_type": "markdown",
   "source": [
    "## RTLearner"
   ],
   "metadata": {
    "collapsed": false,
    "pycharm": {
     "name": "#%% md\n"
    }
   }
  },
  {
   "cell_type": "code",
   "execution_count": 19,
   "outputs": [
    {
     "ename": "AttributeError",
     "evalue": "'RTLearner' object has no attribute 'fit'",
     "output_type": "error",
     "traceback": [
      "\u001B[0;31m---------------------------------------------------------------------------\u001B[0m",
      "\u001B[0;31mAttributeError\u001B[0m                            Traceback (most recent call last)",
      "Cell \u001B[0;32mIn[19], line 21\u001B[0m\n\u001B[1;32m     18\u001B[0m learner \u001B[38;5;241m=\u001B[39m RTLearner()\n\u001B[1;32m     20\u001B[0m \u001B[38;5;66;03m# Train the learner\u001B[39;00m\n\u001B[0;32m---> 21\u001B[0m \u001B[43mlearner\u001B[49m\u001B[38;5;241;43m.\u001B[39;49m\u001B[43mfit\u001B[49m(trainX, trainY)\n\u001B[1;32m     23\u001B[0m \u001B[38;5;66;03m# Make predictions\u001B[39;00m\n\u001B[1;32m     24\u001B[0m predictions \u001B[38;5;241m=\u001B[39m learner\u001B[38;5;241m.\u001B[39mquery(testX)\n",
      "\u001B[0;31mAttributeError\u001B[0m: 'RTLearner' object has no attribute 'fit'"
     ]
    }
   ],
   "source": [
    "# Example with Random Tree Learner\n",
    "from RTLearner import RTLearner\n",
    "import numpy as np\n",
    "import pandas as pd\n",
    "from sklearn.metrics import mean_squared_error, r2_score\n",
    "\n",
    "# Read sample data from a CSV file\n",
    "df = pd.read_csv('sample_data.csv')\n",
    "y = df['y'].values  # 'y' is the target column\n",
    "X = df.drop('y', axis=1).values\n",
    "\n",
    "# Manually split the data into training and testing sets\n",
    "split_index = int(len(X) * 0.8)  # 80% for training, 20% for testing\n",
    "trainX, testX = X[:split_index], X[split_index:]\n",
    "trainY, testY = y[:split_index], y[split_index:]\n",
    "\n",
    "# Create a RTLearner instance\n",
    "learner = RTLearner()\n",
    "\n",
    "# Train the learner\n",
    "learner.fit(trainX, trainY)\n",
    "\n",
    "# Make predictions\n",
    "predictions = learner.query(testX)\n",
    "\n",
    "# Calculate and print the RMSE and R²\n",
    "rmse = np.sqrt(mean_squared_error(testY, predictions))\n",
    "r2 = r2_score(testY, predictions)\n",
    "print(\"RMSE:\", rmse)\n",
    "print(\"R²:\", r2)"
   ],
   "metadata": {
    "collapsed": false,
    "pycharm": {
     "name": "#%%\n"
    }
   }
  },
  {
   "cell_type": "markdown",
   "source": [
    "## LinRegLearner"
   ],
   "metadata": {
    "collapsed": false,
    "pycharm": {
     "name": "#%% md\n"
    }
   }
  },
  {
   "cell_type": "code",
   "execution_count": 20,
   "outputs": [
    {
     "ename": "AttributeError",
     "evalue": "'LinRegLearner' object has no attribute 'fit'",
     "output_type": "error",
     "traceback": [
      "\u001B[0;31m---------------------------------------------------------------------------\u001B[0m",
      "\u001B[0;31mAttributeError\u001B[0m                            Traceback (most recent call last)",
      "Cell \u001B[0;32mIn[20], line 21\u001B[0m\n\u001B[1;32m     18\u001B[0m learner \u001B[38;5;241m=\u001B[39m LinRegLearner()\n\u001B[1;32m     20\u001B[0m \u001B[38;5;66;03m# Train the learner\u001B[39;00m\n\u001B[0;32m---> 21\u001B[0m \u001B[43mlearner\u001B[49m\u001B[38;5;241;43m.\u001B[39;49m\u001B[43mfit\u001B[49m(trainX, trainY)\n\u001B[1;32m     23\u001B[0m \u001B[38;5;66;03m# Make predictions\u001B[39;00m\n\u001B[1;32m     24\u001B[0m predictions \u001B[38;5;241m=\u001B[39m learner\u001B[38;5;241m.\u001B[39mquery(testX)\n",
      "\u001B[0;31mAttributeError\u001B[0m: 'LinRegLearner' object has no attribute 'fit'"
     ]
    }
   ],
   "source": [
    "# Example with Linear Regression Learner\n",
    "from LinRegLearner import LinRegLearner\n",
    "import numpy as np\n",
    "import pandas as pd\n",
    "from sklearn.metrics import mean_squared_error, r2_score\n",
    "\n",
    "# Read sample data from a CSV file\n",
    "df = pd.read_csv('sample_data.csv')\n",
    "y = df['y'].values  # 'y' is the target column\n",
    "X = df.drop('y', axis=1).values\n",
    "\n",
    "# Manually split the data into training and testing sets\n",
    "split_index = int(len(X) * 0.8)  # 80% for training, 20% for testing\n",
    "trainX, testX = X[:split_index], X[split_index:]\n",
    "trainY, testY = y[:split_index], y[split_index:]\n",
    "\n",
    "# Create a LinRegLearner instance\n",
    "learner = LinRegLearner()\n",
    "\n",
    "# Train the learner\n",
    "learner.fit(trainX, trainY)\n",
    "\n",
    "# Make predictions\n",
    "predictions = learner.query(testX)\n",
    "\n",
    "# Calculate and print the RMSE and R²\n",
    "rmse = np.sqrt(mean_squared_error(testY, predictions))\n",
    "r2 = r2_score(testY, predictions)\n",
    "print(\"RMSE:\", rmse)\n",
    "print(\"R²:\", r2)"
   ],
   "metadata": {
    "collapsed": false,
    "pycharm": {
     "name": "#%%\n"
    }
   }
  },
  {
   "cell_type": "code",
   "execution_count": null,
   "outputs": [],
   "source": [],
   "metadata": {
    "collapsed": false,
    "pycharm": {
     "name": "#%%\n"
    }
   }
  },
  {
   "cell_type": "code",
   "execution_count": null,
   "outputs": [],
   "source": [],
   "metadata": {
    "collapsed": false,
    "pycharm": {
     "name": "#%%\n"
    }
   }
  },
  {
   "cell_type": "code",
   "execution_count": null,
   "outputs": [],
   "source": [],
   "metadata": {
    "collapsed": false,
    "pycharm": {
     "name": "#%%\n"
    }
   }
  },
  {
   "cell_type": "code",
   "execution_count": null,
   "outputs": [],
   "source": [],
   "metadata": {
    "collapsed": false,
    "pycharm": {
     "name": "#%%\n"
    }
   }
  },
  {
   "cell_type": "code",
   "execution_count": null,
   "outputs": [],
   "source": [],
   "metadata": {
    "collapsed": false,
    "pycharm": {
     "name": "#%%\n"
    }
   }
  },
  {
   "cell_type": "code",
   "execution_count": null,
   "outputs": [],
   "source": [],
   "metadata": {
    "collapsed": false,
    "pycharm": {
     "name": "#%%\n"
    }
   }
  }
 ],
 "metadata": {
  "kernelspec": {
   "display_name": "Python 3",
   "language": "python",
   "name": "python3"
  },
  "language_info": {
   "codemirror_mode": {
    "name": "ipython",
    "version": 3
   },
   "file_extension": ".py",
   "mimetype": "text/x-python",
   "name": "python",
   "nbconvert_exporter": "python",
   "pygments_lexer": "ipython3",
   "version": "3.7.6"
  }
 },
 "nbformat": 4,
 "nbformat_minor": 2
}